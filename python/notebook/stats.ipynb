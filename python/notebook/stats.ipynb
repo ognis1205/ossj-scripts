{
 "cells": [
  {
   "cell_type": "code",
   "execution_count": 10,
   "id": "4bb31150-3ccd-4894-b08d-4a10bea35fb3",
   "metadata": {},
   "outputs": [
    {
     "name": "stdout",
     "output_type": "stream",
     "text": [
      "median=8.04MB mean=1.56GB\n"
     ]
    }
   ],
   "source": [
    "import math\n",
    "import numpy as np\n",
    "\n",
    "UNITS = ('B', 'KB', 'MB', 'GB', 'TB', 'PB', 'EB', 'ZB', 'YB')\n",
    "\n",
    "def convert(size):\n",
    "   if size == 0:\n",
    "       return '0B'\n",
    "   i = int(math.floor(math.log(size, 1024)))\n",
    "   p = math.pow(1024, i)\n",
    "   s = round(size / p, 2)\n",
    "   return \"{}{}\".format(s, UNITS[i])\n",
    "\n",
    "with open('../data/datasizes.txt', 'r') as input:\n",
    "    ds = [int(l.strip()) for l in input.readlines()]\n",
    "    ds = np.array(ds)\n",
    "print('median={} mean={}'.format(convert(np.median(ds)), convert(np.mean(ds))))"
   ]
  },
  {
   "cell_type": "code",
   "execution_count": null,
   "id": "388fd29e-646f-4c73-91e4-26c323676b58",
   "metadata": {},
   "outputs": [],
   "source": []
  }
 ],
 "metadata": {
  "kernelspec": {
   "display_name": "Python 3 (ipykernel)",
   "language": "python",
   "name": "python3"
  },
  "language_info": {
   "codemirror_mode": {
    "name": "ipython",
    "version": 3
   },
   "file_extension": ".py",
   "mimetype": "text/x-python",
   "name": "python",
   "nbconvert_exporter": "python",
   "pygments_lexer": "ipython3",
   "version": "3.8.13"
  }
 },
 "nbformat": 4,
 "nbformat_minor": 5
}
